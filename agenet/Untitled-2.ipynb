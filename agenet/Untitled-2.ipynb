{
 "cells": [
  {
   "cell_type": "code",
   "execution_count": 285,
   "metadata": {},
   "outputs": [
    {
     "name": "stdout",
     "output_type": "stream",
     "text": [
      "[1.2500000000000004, 1.7500000000000009] [1.2000000000000004, 1.7000000000000008]\n",
      "0.0 0.0 0.03874204890000001 0.9612579511\n",
      "0.7650000000000003 1.315587395856599\n"
     ]
    }
   ],
   "source": [
    "import numpy as np\n",
    "import math\n",
    "import argparse\n",
    "import random\n",
    "\n",
    "# import sys\n",
    "from scipy import special as sp\n",
    "import av_age\n",
    "\n",
    "# from av_age import validate\n",
    "import matplotlib.pyplot as plt\n",
    "import bler\n",
    "import snr\n",
    "import pandas as pd\n",
    "import tabulate as tab\n",
    "import itertools as intert\n",
    "import matplotlib.pyplot as plt\n",
    "# Define the range of values for each parameter\n",
    "num_nodes = 10\n",
    "active_prob = 0.1\n",
    "\n",
    "\n",
    "# Combine the parameters into a list\n",
    "\n",
    "\n",
    "#%run -i av_age.py\n",
    "#def main(num_nodes, active_prob):\n",
    "lambda1 = 20\n",
    "# lambda1 = genlambda[j]\n",
    "num_events = 60\n",
    "inter_arrival_times = (1 / lambda1) * (np.ones(num_events))\n",
    "arrival_timestamps = np.cumsum(inter_arrival_times)\n",
    "T = 10**-4\n",
    "N0 = 2* (10**-15)\n",
    "d1 = 700  # disatance\n",
    "d2 = 700\n",
    "P1 = 500* (10**-2)\n",
    "P2 = 500* (10**-2)\n",
    "#n = 300\n",
    "n1 = 300\n",
    "n2 = 300\n",
    "k1 = 100\n",
    "k2 = 100\n",
    "snr1 = snr.snr(N0, d1, P1)\n",
    "snr2 = snr.snr(N0, d2, P2)\n",
    "er1 = bler.blercal(snr1, n1, k1)\n",
    "er2 = bler.blercal(snr2, n2, k2)\n",
    "inter_service_times = (1 / lambda1) * np.ones((num_events))\n",
    "# Generating departure timestamps for the node 1\n",
    "server_timestamps_1 = np.zeros(num_events)\n",
    "departure_timestamps_s = np.zeros(num_events)\n",
    "su_p = active_prob * (1 - er1) * ((1 - active_prob) ** (num_nodes-1))\n",
    "er_f = 1 - su_p\n",
    "er_p = er_f + (er2 * (er_f - 1))\n",
    "for i in range(0, num_events):\n",
    "  \n",
    "    er_indi = int(random.random() > er_p)\n",
    "    if er_indi == 0:\n",
    "        departure_timestamps_s[i] = 0\n",
    "        server_timestamps_1[i] = 0\n",
    "\n",
    "    else:\n",
    "        departure_timestamps_s[i] = arrival_timestamps[i] + inter_service_times[i]\n",
    "        server_timestamps_1[i] = arrival_timestamps[i]\n",
    "# print(departure_timestamps_1,server_timestamps_1)\n",
    "dep = [x for x in departure_timestamps_s if x != 0]\n",
    "sermat = [x for x in server_timestamps_1 if x != 0]\n",
    "print(dep,sermat)\n",
    "if len(dep and sermat) == 0:\n",
    "    dep=arrival_timestamps[-1]\n",
    "    sermat=arrival_timestamps[0]\n",
    "    dep=[dep]\n",
    "    sermat=[sermat]\n",
    "\n",
    "av_age_poisson_simulation, _, _ = av_age.av_age_func(sermat, dep)\n",
    "print(er1, er2, su_p,er_p)\n",
    "if er_p == 1:\n",
    "    print(\"Theoretical average age is not defined\")\n",
    "else:\n",
    "    av_age_poisson_theoretical = (1 / lambda1) * (0.5 + (1 / (1 - er_p)))\n",
    "\n",
    "print(av_age_poisson_simulation,av_age_poisson_theoretical)\n",
    "    #return av_age_poisson_theoretical, av_age_poisson_simulation\n",
    "# Iterate over each parameter\n"
   ]
  }
 ],
 "metadata": {
  "kernelspec": {
   "display_name": "Python 3",
   "language": "python",
   "name": "python3"
  },
  "language_info": {
   "codemirror_mode": {
    "name": "ipython",
    "version": 3
   },
   "file_extension": ".py",
   "mimetype": "text/x-python",
   "name": "python",
   "nbconvert_exporter": "python",
   "pygments_lexer": "ipython3",
   "version": "3.11.0"
  },
  "orig_nbformat": 4,
  "vscode": {
   "interpreter": {
    "hash": "fe358cc16b2d39b83714e036e5cd27e6fd43086adc1e3704478fe5ee010939ac"
   }
  }
 },
 "nbformat": 4,
 "nbformat_minor": 2
}
