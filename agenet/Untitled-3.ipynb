{
 "cells": [
  {
   "cell_type": "code",
   "execution_count": 84,
   "metadata": {},
   "outputs": [
    {
     "name": "stdout",
     "output_type": "stream",
     "text": [
      "Ages of Information: [50, 50, 50, 50]\n"
     ]
    }
   ],
   "source": [
    "def calculate_age_of_information(arrival_timestamps, departure_timestamps):\n",
    "    ages_of_information = []\n",
    "    for i in range(len(arrival_timestamps)):\n",
    "        if arrival_timestamps[i] != None and departure_timestamps[i] != None:\n",
    "            arrival_timestamp = arrival_timestamps[i]\n",
    "            departure_timestamp = departure_timestamps[i]\n",
    "            age_of_information = departure_timestamp - arrival_timestamp\n",
    "            ages_of_information.append(age_of_information)\n",
    "    return ages_of_information\n",
    "\n",
    "arrival_timestamps = [100, 200, None, 400, 500]\n",
    "departure_timestamps = [150, 250, None, 450, 550]\n",
    "\n",
    "ages_of_information = calculate_age_of_information(arrival_timestamps, departure_timestamps)\n",
    "print(\"Ages of Information:\", ages_of_information)\n"
   ]
  },
  {
   "cell_type": "code",
   "execution_count": 112,
   "metadata": {},
   "outputs": [
    {
     "name": "stdout",
     "output_type": "stream",
     "text": [
      "Average Age of Information: 50.0\n"
     ]
    }
   ],
   "source": [
    "def calculate_average_age_of_information(arrival_timestamps, departure_timestamps):\n",
    "    ages_of_information = []\n",
    "    for i in range(len(arrival_timestamps)):\n",
    "        if arrival_timestamps[i] != None and departure_timestamps[i] != None:\n",
    "            arrival_timestamp = arrival_timestamps[i]\n",
    "            departure_timestamp = departure_timestamps[i]\n",
    "            age_of_information = departure_timestamp - arrival_timestamp\n",
    "            ages_of_information.append(age_of_information)\n",
    "    average_age_of_information = sum(ages_of_information) / len(ages_of_information)\n",
    "    return average_age_of_information\n",
    "\n",
    "arrival_timestamps = [100, 200, None, None, 500]\n",
    "departure_timestamps = [150, 250, None, None, 550]\n",
    "\n",
    "average_age_of_information = calculate_average_age_of_information(arrival_timestamps, departure_timestamps)\n",
    "print(\"Average Age of Information:\", average_age_of_information)\n"
   ]
  },
  {
   "cell_type": "code",
   "execution_count": 5,
   "metadata": {},
   "outputs": [
    {
     "name": "stdout",
     "output_type": "stream",
     "text": [
      "Age of Information: 498\n"
     ]
    }
   ],
   "source": [
    "def calculate_age_of_information(arrival_timestamps, departure_timestamps, current_timestamp):\n",
    "    age_of_information = 0\n",
    "    \n",
    "    for i in range(len(arrival_timestamps)):\n",
    "        if arrival_timestamps[i] != None and departure_timestamps[i] != None:\n",
    "            arrival_timestamp = arrival_timestamps[i]\n",
    "            departure_timestamp = departure_timestamps[i]\n",
    "            age_of_information = max(age_of_information, departure_timestamp - arrival_timestamp)\n",
    "        elif arrival_timestamps[i] != None and departure_timestamps[i] == None:\n",
    "            arrival_timestamp = arrival_timestamps[i]\n",
    "            age_of_information = max(age_of_information, current_timestamp - arrival_timestamp) + 1\n",
    "    return age_of_information\n",
    "   \n",
    "\n",
    "arrival_timestamps = [1, 2, 3, 400]\n",
    "departure_timestamps = [2, 3, None, 401]\n",
    "current_timestamp = 500\n",
    "\n",
    "age_of_information = calculate_age_of_information(arrival_timestamps, departure_timestamps, current_timestamp)\n",
    "print(\"Age of Information:\",age_of_information)\n"
   ]
  }
 ],
 "metadata": {
  "kernelspec": {
   "display_name": "Python 3",
   "language": "python",
   "name": "python3"
  },
  "language_info": {
   "codemirror_mode": {
    "name": "ipython",
    "version": 3
   },
   "file_extension": ".py",
   "mimetype": "text/x-python",
   "name": "python",
   "nbconvert_exporter": "python",
   "pygments_lexer": "ipython3",
   "version": "3.11.0"
  },
  "orig_nbformat": 4,
  "vscode": {
   "interpreter": {
    "hash": "fe358cc16b2d39b83714e036e5cd27e6fd43086adc1e3704478fe5ee010939ac"
   }
  }
 },
 "nbformat": 4,
 "nbformat_minor": 2
}
